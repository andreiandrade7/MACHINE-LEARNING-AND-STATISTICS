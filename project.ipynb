{
 "cells": [
  {
   "cell_type": "markdown",
   "metadata": {},
   "source": [
    "# Machine Learning and Statistics **PROJECT**\n",
    "by Andreia Santos\n",
    "\n",
    "DATE:  10th December 2023\n",
    "***"
   ]
  },
  {
   "cell_type": "code",
   "execution_count": 2,
   "metadata": {},
   "outputs": [],
   "source": [
    "# python libraries\n",
    "\n",
    "import pandas as pd\n",
    "import matplotlib.pyplot as plt\n",
    "import seaborn as sns"
   ]
  },
  {
   "cell_type": "markdown",
   "metadata": {},
   "source": [
    "\n",
    "## Part 1 - Machine learning "
   ]
  },
  {
   "cell_type": "markdown",
   "metadata": {},
   "source": [
    "### __Question: In your notebook, you should first explain what supervised learning is and then explain what classification algorithms are.__"
   ]
  },
  {
   "cell_type": "markdown",
   "metadata": {},
   "source": [
    "__ANSWER:__\n",
    "\n",
    "Machine learning is just one piece of solving problems. Though there are a lot of technical things it is important to remember the main goals and have present the big picture. \n",
    "\n",
    "\n",
    "Machine learning algorithms are segmented in two distinct categories:  supervised and unsupervised learning.  \n",
    "In supervised learning, the algorithm receives pairs of things (ex : features)   and their correct answers (ex: class) . The scope of this algorithm is to be able to predict answers for new things that it has not seen before. The reason why is categorized as supervised algorithms is because this algorithm learns with the help of a \"teacher\" who provides correct answers. This “teaching” mode is known as the training process. Specifically, the algorithm creates a model with its internal parameters which intention is to minimize the difference between the predicted output and the actual corrected answers (1). \n",
    "\n",
    "Oppositely, the unsupervised learning the algorithm, only knows about the input data and no output information is given. Typically, this are more challenging algorithms to understand and assess compared to supervised methods (1). \n",
    "\n",
    "\n",
    "Supervised machine learning has two main types: classification and regression.\n",
    "In classification, the goal is to sort things into different groups. There are two types of classification: one is to separate things into two groups - binary classification. The other type involves sorting things into more than two groups - multiclass classification (1).\n",
    "\n",
    "In regression, the aim to predict a continuous number, such as estimating people’s income from factors like education and age. It deals with a range of possible values, where small differences between predicted and actual numbers matter. This contrasts with the classification algorithm once there will be intermediate values for example in predicting income through regression, the result can be any amount, while in classification, things are sorted into clear categories without any in-between stages(1).\n",
    "\n",
    "\n",
    "One piece of toolkit that is used on Python machine learning is the “scikit-learn”. This library includes submodules that are useful for:\n",
    "1.\tClassification - sorting things into groups. It can use things like SVM, nearest neighbors, random forest, and logistic regression.\n",
    "2.\tRegression - Predicting numbers: It can used to predict numbers using methods like Lasso and ridge regression.\n",
    "3.\tClustering - Grouping similar things together using k-means and spectral clustering,\n",
    "4.\t  Dimensionality reduction – simplify the data by making simpler big sets of data using PCA, feature selection, and matrix factorization.\n",
    "5.\tModel selection – select the best model to data using grid search and cross-validation for example.\n",
    "6.\tPreprocessing - prepare data so it gets ready for the machine learning by applying algorithm as feature extraction and normalization (2).\n",
    "\n",
    "\n",
    "\n",
    "\n",
    "\n",
    "\n",
    "\n",
    "(1)\tMueller, A., & Guido, S. (2016). Introduction to Machine Learning with Python (1st edition) . O'Reilly Media\n",
    "\n",
    "\n",
    "\n",
    "(2)\tMcKinney, W. (2017). Python for Data Analysis: Data Wrangling with Pandas, NumPy, and IPython (2nd ed.). O'Reilly Media.\n"
   ]
  },
  {
   "cell_type": "markdown",
   "metadata": {},
   "source": [
    "ANSWER"
   ]
  },
  {
   "cell_type": "markdown",
   "metadata": {},
   "source": [
    "\n",
    "## Part 2 - Classification algorithm"
   ]
  },
  {
   "cell_type": "markdown",
   "metadata": {},
   "source": [
    "### __Describe at least one common classification algorithm and implement it using the scikit-learn Python library__"
   ]
  },
  {
   "cell_type": "markdown",
   "metadata": {},
   "source": [
    "__ANSWER:__\n",
    "\n",
    "The k-NN algorithm is one of the simplest supervised classification algorithms. The model relies exclusively on saving the training dataset. When it needs to predict a new piece of data, it looks for the closest similar data points on the previous saved training dataset which are its nearest neighbors. \n",
    "\n",
    "\n",
    "In its basic form, the k-NN algorithm looks at just one nearest neighbor (k=1), the closest point in the training data to the point its being predicted. The predicted output will be the known output of this closest training point. \n",
    " \n"
   ]
  },
  {
   "cell_type": "code",
   "execution_count": 65,
   "metadata": {},
   "outputs": [
    {
     "name": "stdout",
     "output_type": "stream",
     "text": [
      "The percentage of correct predictions is: 0.97 considering that 30 samples have been predicted.\n"
     ]
    }
   ],
   "source": [
    "import sklearn as sk \n",
    "from sklearn.neighbors import KNeighborsClassifier\n",
    "import pandas as pd\n",
    "\n",
    "df = pd.read_csv('iris.csv')\n",
    "\n",
    "\n",
    "\n",
    "\n",
    "# Knn classifier with a number of neighbors of 5 (predefined) or 6 gives the best classifer performance, considering a reasonable test size of 20% (N=30)\n",
    "clf = sk.neighbors.KNeighborsClassifier(n_neighbors=5)\n",
    "\n",
    "\n",
    "X = df[['sepal_length', 'sepal_width', 'petal_length', 'petal_width']]\n",
    "Y= df['class']\n",
    "\n",
    "\n",
    "# split data between train and test data set (half - half)\n",
    "X_train, X_test, Y_train, Y_test = sk.model_selection.train_test_split(X, Y, test_size=0.2)\n",
    "\n",
    "# fit the model to the train subset\n",
    "clf.fit(X_train, Y_train)\n",
    "\n",
    "#use the previous created model to the test subset\n",
    "clf.predict(X_test)\n",
    "\n",
    "\n",
    "# estimate the amount of correct classifications \n",
    "\n",
    "accuracy = clf.score(X_test, Y_test)\n",
    "num_samples_predicted = X_test.shape[0]\n",
    "\n",
    "print(f\"The percentage of correct predictions is: {accuracy:.2f} considering that {num_samples_predicted} samples have been predicted.\")\n"
   ]
  },
  {
   "cell_type": "code",
   "execution_count": null,
   "metadata": {},
   "outputs": [],
   "source": []
  },
  {
   "cell_type": "markdown",
   "metadata": {},
   "source": [
    "### _Part 3 - Plots_"
   ]
  },
  {
   "cell_type": "markdown",
   "metadata": {},
   "source": [
    "Throughout your notebook, use appropriate plots, mathematical notation, and diagrams to explain the relevant concepts"
   ]
  },
  {
   "cell_type": "markdown",
   "metadata": {},
   "source": []
  }
 ],
 "metadata": {
  "kernelspec": {
   "display_name": "Python 3",
   "language": "python",
   "name": "python3"
  },
  "language_info": {
   "codemirror_mode": {
    "name": "ipython",
    "version": 3
   },
   "file_extension": ".py",
   "mimetype": "text/x-python",
   "name": "python",
   "nbconvert_exporter": "python",
   "pygments_lexer": "ipython3",
   "version": "3.10.9"
  }
 },
 "nbformat": 4,
 "nbformat_minor": 2
}
