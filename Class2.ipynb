{
 "cells": [
  {
   "cell_type": "markdown",
   "id": "d10dafed",
   "metadata": {},
   "source": [
    "# Chi-square test\n",
    "\n",
    "***"
   ]
  },
  {
   "cell_type": "markdown",
   "id": "69f4ff34",
   "metadata": {},
   "source": [
    "### Laerd Statistis Chi-square \n"
   ]
  },
  {
   "cell_type": "code",
   "execution_count": 24,
   "id": "e963cf4c",
   "metadata": {},
   "outputs": [],
   "source": [
    "import pandas as pd\n",
    "import random \n",
    "import scipy.stats as ss"
   ]
  },
  {
   "cell_type": "code",
   "execution_count": 2,
   "id": "d84b5e00",
   "metadata": {},
   "outputs": [],
   "source": [
    "male_books=[['Male', 'Books']]*16"
   ]
  },
  {
   "cell_type": "code",
   "execution_count": 3,
   "id": "e09d8d20",
   "metadata": {},
   "outputs": [],
   "source": [
    "female_books=[['Female', 'Books']]*13"
   ]
  },
  {
   "cell_type": "code",
   "execution_count": 10,
   "id": "f0a351c4",
   "metadata": {},
   "outputs": [],
   "source": [
    "male_online=[['Male', 'Online']]*24"
   ]
  },
  {
   "cell_type": "code",
   "execution_count": 11,
   "id": "8919b047",
   "metadata": {},
   "outputs": [],
   "source": [
    "female_online=[['Female', 'Online']]*27"
   ]
  },
  {
   "cell_type": "markdown",
   "id": "3bbf049a",
   "metadata": {},
   "source": [
    "# raw data - merge the four lists"
   ]
  },
  {
   "cell_type": "code",
   "execution_count": 12,
   "id": "3663c67e",
   "metadata": {},
   "outputs": [],
   "source": [
    "raw_data=male_books+female_books+male_online+female_online\n"
   ]
  },
  {
   "cell_type": "code",
   "execution_count": 13,
   "id": "8624e3c2",
   "metadata": {},
   "outputs": [],
   "source": [
    "#Zip the list \n",
    "# interchanges the outer and the inner list\n",
    "\n",
    "gender, medium = list(zip(*raw_data))\n",
    "\n",
    "# show\n",
    "#gender, medium"
   ]
  },
  {
   "cell_type": "code",
   "execution_count": 14,
   "id": "6a080dc1",
   "metadata": {},
   "outputs": [],
   "source": [
    "#shuffle the data\n",
    "random.shuffle(raw_data)\n",
    "\n",
    "#raw_data\n",
    "\n"
   ]
  },
  {
   "cell_type": "code",
   "execution_count": null,
   "id": "59acd32b",
   "metadata": {},
   "outputs": [],
   "source": []
  },
  {
   "cell_type": "code",
   "execution_count": 17,
   "id": "a58426a4",
   "metadata": {},
   "outputs": [
    {
     "data": {
      "text/html": [
       "<div>\n",
       "<style scoped>\n",
       "    .dataframe tbody tr th:only-of-type {\n",
       "        vertical-align: middle;\n",
       "    }\n",
       "\n",
       "    .dataframe tbody tr th {\n",
       "        vertical-align: top;\n",
       "    }\n",
       "\n",
       "    .dataframe thead th {\n",
       "        text-align: right;\n",
       "    }\n",
       "</style>\n",
       "<table border=\"1\" class=\"dataframe\">\n",
       "  <thead>\n",
       "    <tr style=\"text-align: right;\">\n",
       "      <th></th>\n",
       "      <th>gender</th>\n",
       "      <th>medium</th>\n",
       "    </tr>\n",
       "  </thead>\n",
       "  <tbody>\n",
       "    <tr>\n",
       "      <th>0</th>\n",
       "      <td>Male</td>\n",
       "      <td>Books</td>\n",
       "    </tr>\n",
       "    <tr>\n",
       "      <th>1</th>\n",
       "      <td>Male</td>\n",
       "      <td>Books</td>\n",
       "    </tr>\n",
       "    <tr>\n",
       "      <th>2</th>\n",
       "      <td>Male</td>\n",
       "      <td>Books</td>\n",
       "    </tr>\n",
       "    <tr>\n",
       "      <th>3</th>\n",
       "      <td>Male</td>\n",
       "      <td>Books</td>\n",
       "    </tr>\n",
       "    <tr>\n",
       "      <th>4</th>\n",
       "      <td>Male</td>\n",
       "      <td>Books</td>\n",
       "    </tr>\n",
       "    <tr>\n",
       "      <th>...</th>\n",
       "      <td>...</td>\n",
       "      <td>...</td>\n",
       "    </tr>\n",
       "    <tr>\n",
       "      <th>75</th>\n",
       "      <td>Female</td>\n",
       "      <td>Online</td>\n",
       "    </tr>\n",
       "    <tr>\n",
       "      <th>76</th>\n",
       "      <td>Female</td>\n",
       "      <td>Online</td>\n",
       "    </tr>\n",
       "    <tr>\n",
       "      <th>77</th>\n",
       "      <td>Female</td>\n",
       "      <td>Online</td>\n",
       "    </tr>\n",
       "    <tr>\n",
       "      <th>78</th>\n",
       "      <td>Female</td>\n",
       "      <td>Online</td>\n",
       "    </tr>\n",
       "    <tr>\n",
       "      <th>79</th>\n",
       "      <td>Female</td>\n",
       "      <td>Online</td>\n",
       "    </tr>\n",
       "  </tbody>\n",
       "</table>\n",
       "<p>80 rows × 2 columns</p>\n",
       "</div>"
      ],
      "text/plain": [
       "    gender  medium\n",
       "0     Male   Books\n",
       "1     Male   Books\n",
       "2     Male   Books\n",
       "3     Male   Books\n",
       "4     Male   Books\n",
       "..     ...     ...\n",
       "75  Female  Online\n",
       "76  Female  Online\n",
       "77  Female  Online\n",
       "78  Female  Online\n",
       "79  Female  Online\n",
       "\n",
       "[80 rows x 2 columns]"
      ]
     },
     "execution_count": 17,
     "metadata": {},
     "output_type": "execute_result"
    }
   ],
   "source": [
    "# create a data frame\n",
    "df=pd.DataFrame({'gender':gender, 'medium':medium})\n",
    "\n",
    "# show\n",
    "df"
   ]
  },
  {
   "cell_type": "markdown",
   "id": "08432436",
   "metadata": {},
   "source": [
    "## Add contingency table\n",
    "***\n"
   ]
  },
  {
   "cell_type": "code",
   "execution_count": 31,
   "id": "f4f01bae",
   "metadata": {},
   "outputs": [
    {
     "data": {
      "text/plain": [
       "array([29, 40, 40, 51])"
      ]
     },
     "execution_count": 31,
     "metadata": {},
     "output_type": "execute_result"
    }
   ],
   "source": [
    "# indicates the unique cell values within the input and tell me how many are there of each of the individual values\n",
    "\n",
    "cross=ss.contingency.crosstab(df)\n",
    "\n",
    "cross\n",
    "\n",
    "cross.elements\n",
    "cross.count\n",
    "\n",
    "\n",
    "\n"
   ]
  },
  {
   "cell_type": "code",
   "execution_count": 50,
   "id": "b6d723eb",
   "metadata": {},
   "outputs": [
    {
     "name": "stderr",
     "output_type": "stream",
     "text": [
      "C:\\Users\\andreia\\AppData\\Local\\Temp\\ipykernel_10236\\4183196882.py:15: UserWarning: Boolean Series key will be reindexed to match DataFrame index.\n",
      "  df[df['gender']== first [0]][df['medium']== second[1]]\n"
     ]
    },
    {
     "data": {
      "text/html": [
       "<div>\n",
       "<style scoped>\n",
       "    .dataframe tbody tr th:only-of-type {\n",
       "        vertical-align: middle;\n",
       "    }\n",
       "\n",
       "    .dataframe tbody tr th {\n",
       "        vertical-align: top;\n",
       "    }\n",
       "\n",
       "    .dataframe thead th {\n",
       "        text-align: right;\n",
       "    }\n",
       "</style>\n",
       "<table border=\"1\" class=\"dataframe\">\n",
       "  <thead>\n",
       "    <tr style=\"text-align: right;\">\n",
       "      <th></th>\n",
       "      <th>gender</th>\n",
       "      <th>medium</th>\n",
       "    </tr>\n",
       "  </thead>\n",
       "  <tbody>\n",
       "    <tr>\n",
       "      <th>53</th>\n",
       "      <td>Female</td>\n",
       "      <td>Online</td>\n",
       "    </tr>\n",
       "    <tr>\n",
       "      <th>54</th>\n",
       "      <td>Female</td>\n",
       "      <td>Online</td>\n",
       "    </tr>\n",
       "    <tr>\n",
       "      <th>55</th>\n",
       "      <td>Female</td>\n",
       "      <td>Online</td>\n",
       "    </tr>\n",
       "    <tr>\n",
       "      <th>56</th>\n",
       "      <td>Female</td>\n",
       "      <td>Online</td>\n",
       "    </tr>\n",
       "    <tr>\n",
       "      <th>57</th>\n",
       "      <td>Female</td>\n",
       "      <td>Online</td>\n",
       "    </tr>\n",
       "    <tr>\n",
       "      <th>58</th>\n",
       "      <td>Female</td>\n",
       "      <td>Online</td>\n",
       "    </tr>\n",
       "    <tr>\n",
       "      <th>59</th>\n",
       "      <td>Female</td>\n",
       "      <td>Online</td>\n",
       "    </tr>\n",
       "    <tr>\n",
       "      <th>60</th>\n",
       "      <td>Female</td>\n",
       "      <td>Online</td>\n",
       "    </tr>\n",
       "    <tr>\n",
       "      <th>61</th>\n",
       "      <td>Female</td>\n",
       "      <td>Online</td>\n",
       "    </tr>\n",
       "    <tr>\n",
       "      <th>62</th>\n",
       "      <td>Female</td>\n",
       "      <td>Online</td>\n",
       "    </tr>\n",
       "    <tr>\n",
       "      <th>63</th>\n",
       "      <td>Female</td>\n",
       "      <td>Online</td>\n",
       "    </tr>\n",
       "    <tr>\n",
       "      <th>64</th>\n",
       "      <td>Female</td>\n",
       "      <td>Online</td>\n",
       "    </tr>\n",
       "    <tr>\n",
       "      <th>65</th>\n",
       "      <td>Female</td>\n",
       "      <td>Online</td>\n",
       "    </tr>\n",
       "    <tr>\n",
       "      <th>66</th>\n",
       "      <td>Female</td>\n",
       "      <td>Online</td>\n",
       "    </tr>\n",
       "    <tr>\n",
       "      <th>67</th>\n",
       "      <td>Female</td>\n",
       "      <td>Online</td>\n",
       "    </tr>\n",
       "    <tr>\n",
       "      <th>68</th>\n",
       "      <td>Female</td>\n",
       "      <td>Online</td>\n",
       "    </tr>\n",
       "    <tr>\n",
       "      <th>69</th>\n",
       "      <td>Female</td>\n",
       "      <td>Online</td>\n",
       "    </tr>\n",
       "    <tr>\n",
       "      <th>70</th>\n",
       "      <td>Female</td>\n",
       "      <td>Online</td>\n",
       "    </tr>\n",
       "    <tr>\n",
       "      <th>71</th>\n",
       "      <td>Female</td>\n",
       "      <td>Online</td>\n",
       "    </tr>\n",
       "    <tr>\n",
       "      <th>72</th>\n",
       "      <td>Female</td>\n",
       "      <td>Online</td>\n",
       "    </tr>\n",
       "    <tr>\n",
       "      <th>73</th>\n",
       "      <td>Female</td>\n",
       "      <td>Online</td>\n",
       "    </tr>\n",
       "    <tr>\n",
       "      <th>74</th>\n",
       "      <td>Female</td>\n",
       "      <td>Online</td>\n",
       "    </tr>\n",
       "    <tr>\n",
       "      <th>75</th>\n",
       "      <td>Female</td>\n",
       "      <td>Online</td>\n",
       "    </tr>\n",
       "    <tr>\n",
       "      <th>76</th>\n",
       "      <td>Female</td>\n",
       "      <td>Online</td>\n",
       "    </tr>\n",
       "    <tr>\n",
       "      <th>77</th>\n",
       "      <td>Female</td>\n",
       "      <td>Online</td>\n",
       "    </tr>\n",
       "    <tr>\n",
       "      <th>78</th>\n",
       "      <td>Female</td>\n",
       "      <td>Online</td>\n",
       "    </tr>\n",
       "    <tr>\n",
       "      <th>79</th>\n",
       "      <td>Female</td>\n",
       "      <td>Online</td>\n",
       "    </tr>\n",
       "  </tbody>\n",
       "</table>\n",
       "</div>"
      ],
      "text/plain": [
       "    gender  medium\n",
       "53  Female  Online\n",
       "54  Female  Online\n",
       "55  Female  Online\n",
       "56  Female  Online\n",
       "57  Female  Online\n",
       "58  Female  Online\n",
       "59  Female  Online\n",
       "60  Female  Online\n",
       "61  Female  Online\n",
       "62  Female  Online\n",
       "63  Female  Online\n",
       "64  Female  Online\n",
       "65  Female  Online\n",
       "66  Female  Online\n",
       "67  Female  Online\n",
       "68  Female  Online\n",
       "69  Female  Online\n",
       "70  Female  Online\n",
       "71  Female  Online\n",
       "72  Female  Online\n",
       "73  Female  Online\n",
       "74  Female  Online\n",
       "75  Female  Online\n",
       "76  Female  Online\n",
       "77  Female  Online\n",
       "78  Female  Online\n",
       "79  Female  Online"
      ]
     },
     "execution_count": 50,
     "metadata": {},
     "output_type": "execute_result"
    }
   ],
   "source": [
    "#but we want the intersection of the 1st column with the 2nd column not that the data is being considereed individually as it is\n",
    "\n",
    "\n",
    "cross=ss.contingency.crosstab(df['gender'], df['medium'])\n",
    "\n",
    "\n",
    "cross.count\n",
    "\n",
    "first, second= cross.elements\n",
    "\n",
    "first, second\n",
    "\n",
    "# Find all row in df which are females and medium\n",
    "\n",
    "df[df['gender']== first [0]][df['medium']== second[1]]\n"
   ]
  },
  {
   "cell_type": "code",
   "execution_count": 54,
   "id": "fd822476",
   "metadata": {},
   "outputs": [
    {
     "data": {
      "text/plain": [
       "array([[14.5, 25.5],\n",
       "       [14.5, 25.5]])"
      ]
     },
     "execution_count": 54,
     "metadata": {},
     "output_type": "execute_result"
    }
   ],
   "source": [
    "# Do the statistics\n",
    "\n",
    "results= ss.chi2_contingency (cross.count, correction=False)\n",
    "\n",
    "results.expected_freq"
   ]
  },
  {
   "cell_type": "code",
   "execution_count": 58,
   "id": "64313606",
   "metadata": {},
   "outputs": [
    {
     "data": {
      "text/plain": [
       "14.5"
      ]
     },
     "execution_count": 58,
     "metadata": {},
     "output_type": "execute_result"
    }
   ],
   "source": [
    "# Prefered books\n",
    "29/80\n",
    "\n",
    "# If no relationship between gender and medium \n",
    "# then we should have the same proportion of males\n",
    "40*(29/80)"
   ]
  },
  {
   "cell_type": "markdown",
   "id": "e91016a0",
   "metadata": {},
   "source": [
    "***\n",
    "\n",
    "### End"
   ]
  }
 ],
 "metadata": {
  "kernelspec": {
   "display_name": "Python 3 (ipykernel)",
   "language": "python",
   "name": "python3"
  },
  "language_info": {
   "codemirror_mode": {
    "name": "ipython",
    "version": 3
   },
   "file_extension": ".py",
   "mimetype": "text/x-python",
   "name": "python",
   "nbconvert_exporter": "python",
   "pygments_lexer": "ipython3",
   "version": "3.10.9"
  }
 },
 "nbformat": 4,
 "nbformat_minor": 5
}
