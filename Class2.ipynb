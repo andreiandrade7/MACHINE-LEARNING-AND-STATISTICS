{
 "cells": [
  {
   "cell_type": "markdown",
   "id": "d10dafed",
   "metadata": {},
   "source": [
    "# Chi-square test\n",
    "\n",
    "***"
   ]
  },
  {
   "cell_type": "markdown",
   "id": "69f4ff34",
   "metadata": {},
   "source": [
    "### Laerd Statistis Chi-square \n"
   ]
  },
  {
   "cell_type": "code",
   "execution_count": 1,
   "id": "e963cf4c",
   "metadata": {},
   "outputs": [],
   "source": [
    "import pandas as pd\n",
    "import random \n"
   ]
  },
  {
   "cell_type": "code",
   "execution_count": 2,
   "id": "d84b5e00",
   "metadata": {},
   "outputs": [],
   "source": [
    "male_books=[['Male', 'Books']]*16"
   ]
  },
  {
   "cell_type": "code",
   "execution_count": 3,
   "id": "e09d8d20",
   "metadata": {},
   "outputs": [],
   "source": [
    "female_books=[['Female', 'Books']]*13"
   ]
  },
  {
   "cell_type": "code",
   "execution_count": 10,
   "id": "f0a351c4",
   "metadata": {},
   "outputs": [],
   "source": [
    "male_online=[['Male', 'Online']]*24"
   ]
  },
  {
   "cell_type": "code",
   "execution_count": 11,
   "id": "8919b047",
   "metadata": {},
   "outputs": [],
   "source": [
    "female_online=[['Female', 'Online']]*27"
   ]
  },
  {
   "cell_type": "markdown",
   "id": "3bbf049a",
   "metadata": {},
   "source": [
    "# raw data - merge the four lists"
   ]
  },
  {
   "cell_type": "code",
   "execution_count": 12,
   "id": "3663c67e",
   "metadata": {},
   "outputs": [],
   "source": [
    "raw_data=male_books+female_books+male_online+female_online\n"
   ]
  },
  {
   "cell_type": "code",
   "execution_count": 13,
   "id": "8624e3c2",
   "metadata": {},
   "outputs": [],
   "source": [
    "#Zip the list \n",
    "# interchanges the outer and the inner list\n",
    "\n",
    "gender, medium = list(zip(*raw_data))\n",
    "\n",
    "# show\n",
    "#gender, medium"
   ]
  },
  {
   "cell_type": "code",
   "execution_count": 14,
   "id": "6a080dc1",
   "metadata": {},
   "outputs": [],
   "source": [
    "#shuffle the data\n",
    "random.shuffle(raw_data)\n",
    "\n",
    "#raw_data\n",
    "\n"
   ]
  },
  {
   "cell_type": "code",
   "execution_count": 15,
   "id": "a58426a4",
   "metadata": {},
   "outputs": [
    {
     "data": {
      "text/html": [
       "<div>\n",
       "<style scoped>\n",
       "    .dataframe tbody tr th:only-of-type {\n",
       "        vertical-align: middle;\n",
       "    }\n",
       "\n",
       "    .dataframe tbody tr th {\n",
       "        vertical-align: top;\n",
       "    }\n",
       "\n",
       "    .dataframe thead th {\n",
       "        text-align: right;\n",
       "    }\n",
       "</style>\n",
       "<table border=\"1\" class=\"dataframe\">\n",
       "  <thead>\n",
       "    <tr style=\"text-align: right;\">\n",
       "      <th></th>\n",
       "      <th>gender</th>\n",
       "      <th>medium</th>\n",
       "    </tr>\n",
       "  </thead>\n",
       "  <tbody>\n",
       "    <tr>\n",
       "      <th>0</th>\n",
       "      <td>Male</td>\n",
       "      <td>Books</td>\n",
       "    </tr>\n",
       "    <tr>\n",
       "      <th>1</th>\n",
       "      <td>Male</td>\n",
       "      <td>Books</td>\n",
       "    </tr>\n",
       "    <tr>\n",
       "      <th>2</th>\n",
       "      <td>Male</td>\n",
       "      <td>Books</td>\n",
       "    </tr>\n",
       "    <tr>\n",
       "      <th>3</th>\n",
       "      <td>Male</td>\n",
       "      <td>Books</td>\n",
       "    </tr>\n",
       "    <tr>\n",
       "      <th>4</th>\n",
       "      <td>Male</td>\n",
       "      <td>Books</td>\n",
       "    </tr>\n",
       "    <tr>\n",
       "      <th>...</th>\n",
       "      <td>...</td>\n",
       "      <td>...</td>\n",
       "    </tr>\n",
       "    <tr>\n",
       "      <th>75</th>\n",
       "      <td>Female</td>\n",
       "      <td>Online</td>\n",
       "    </tr>\n",
       "    <tr>\n",
       "      <th>76</th>\n",
       "      <td>Female</td>\n",
       "      <td>Online</td>\n",
       "    </tr>\n",
       "    <tr>\n",
       "      <th>77</th>\n",
       "      <td>Female</td>\n",
       "      <td>Online</td>\n",
       "    </tr>\n",
       "    <tr>\n",
       "      <th>78</th>\n",
       "      <td>Female</td>\n",
       "      <td>Online</td>\n",
       "    </tr>\n",
       "    <tr>\n",
       "      <th>79</th>\n",
       "      <td>Female</td>\n",
       "      <td>Online</td>\n",
       "    </tr>\n",
       "  </tbody>\n",
       "</table>\n",
       "<p>80 rows × 2 columns</p>\n",
       "</div>"
      ],
      "text/plain": [
       "    gender  medium\n",
       "0     Male   Books\n",
       "1     Male   Books\n",
       "2     Male   Books\n",
       "3     Male   Books\n",
       "4     Male   Books\n",
       "..     ...     ...\n",
       "75  Female  Online\n",
       "76  Female  Online\n",
       "77  Female  Online\n",
       "78  Female  Online\n",
       "79  Female  Online\n",
       "\n",
       "[80 rows x 2 columns]"
      ]
     },
     "execution_count": 15,
     "metadata": {},
     "output_type": "execute_result"
    }
   ],
   "source": [
    "# create a data frame\n",
    "df=pd.DataFrame({'gender':gender, 'medium':medium})\n",
    "\n",
    "# show\n",
    "df"
   ]
  },
  {
   "cell_type": "markdown",
   "id": "e91016a0",
   "metadata": {},
   "source": [
    "***\n",
    "\n",
    "### End"
   ]
  },
  {
   "cell_type": "markdown",
   "id": "513cf5e9",
   "metadata": {},
   "source": []
  }
 ],
 "metadata": {
  "kernelspec": {
   "display_name": "Python 3 (ipykernel)",
   "language": "python",
   "name": "python3"
  },
  "language_info": {
   "codemirror_mode": {
    "name": "ipython",
    "version": 3
   },
   "file_extension": ".py",
   "mimetype": "text/x-python",
   "name": "python",
   "nbconvert_exporter": "python",
   "pygments_lexer": "ipython3",
   "version": "3.10.9"
  }
 },
 "nbformat": 4,
 "nbformat_minor": 5
}
