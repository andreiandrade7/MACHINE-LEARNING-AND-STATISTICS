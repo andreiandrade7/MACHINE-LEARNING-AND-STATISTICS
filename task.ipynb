{
 "cells": [
  {
   "cell_type": "markdown",
   "metadata": {},
   "source": [
    "# Task no.1\n",
    "***"
   ]
  },
  {
   "cell_type": "markdown",
   "metadata": {},
   "source": [
    "### Newton's method : Python script to estimate the square root of a float number inserted by the user"
   ]
  },
  {
   "cell_type": "markdown",
   "metadata": {},
   "source": [
    "Read input number and estimate relevant info (no. decimal places)"
   ]
  },
  {
   "cell_type": "code",
   "execution_count": 1,
   "metadata": {},
   "outputs": [
    {
     "ename": "ValueError",
     "evalue": "could not convert string to float: ''",
     "output_type": "error",
     "traceback": [
      "\u001b[1;31m---------------------------------------------------------------------------\u001b[0m",
      "\u001b[1;31mValueError\u001b[0m                                Traceback (most recent call last)",
      "\u001b[1;32mc:\\Users\\andreia\\Desktop\\Science in Computing in Data Analytics\\courses\\6.Machine Learning and Statistics\\repo\\MACHINE-LEARNING-AND-STATISTICS-1\\task.ipynb Cell 4\u001b[0m line \u001b[0;36m3\n\u001b[0;32m      <a href='vscode-notebook-cell:/c%3A/Users/andreia/Desktop/Science%20in%20Computing%20in%20Data%20Analytics/courses/6.Machine%20Learning%20and%20Statistics/repo/MACHINE-LEARNING-AND-STATISTICS-1/task.ipynb#W3sZmlsZQ%3D%3D?line=0'>1</a>\u001b[0m no_decimal\u001b[39m=\u001b[39m\u001b[39m0\u001b[39m\n\u001b[1;32m----> <a href='vscode-notebook-cell:/c%3A/Users/andreia/Desktop/Science%20in%20Computing%20in%20Data%20Analytics/courses/6.Machine%20Learning%20and%20Statistics/repo/MACHINE-LEARNING-AND-STATISTICS-1/task.ipynb#W3sZmlsZQ%3D%3D?line=2'>3</a>\u001b[0m number\u001b[39m=\u001b[39m \u001b[39mfloat\u001b[39;49m(\u001b[39minput\u001b[39;49m(\u001b[39m\"\u001b[39;49m\u001b[39mInsert the desired float number you wish to square root \u001b[39;49m\u001b[39m\"\u001b[39;49m)) \u001b[39m# ask the user the float number\u001b[39;00m\n\u001b[0;32m      <a href='vscode-notebook-cell:/c%3A/Users/andreia/Desktop/Science%20in%20Computing%20in%20Data%20Analytics/courses/6.Machine%20Learning%20and%20Statistics/repo/MACHINE-LEARNING-AND-STATISTICS-1/task.ipynb#W3sZmlsZQ%3D%3D?line=3'>4</a>\u001b[0m no_decimal\u001b[39m=\u001b[39m \u001b[39mlen\u001b[39m(\u001b[39mstr\u001b[39m(number)\u001b[39m.\u001b[39msplit(\u001b[39m\"\u001b[39m\u001b[39m.\u001b[39m\u001b[39m\"\u001b[39m)[\u001b[39m1\u001b[39m])  \u001b[39m# count the number of decimal places of the inserted float number\u001b[39;00m\n\u001b[0;32m      <a href='vscode-notebook-cell:/c%3A/Users/andreia/Desktop/Science%20in%20Computing%20in%20Data%20Analytics/courses/6.Machine%20Learning%20and%20Statistics/repo/MACHINE-LEARNING-AND-STATISTICS-1/task.ipynb#W3sZmlsZQ%3D%3D?line=7'>8</a>\u001b[0m \u001b[39mprint\u001b[39m (\u001b[39m\"\u001b[39m\u001b[39mNo of decimal places \u001b[39m\u001b[39m{}\u001b[39;00m\u001b[39m \u001b[39m\u001b[39m\\n\u001b[39;00m\u001b[39m\\n\u001b[39;00m\u001b[39m\\n\u001b[39;00m\u001b[39m\\n\u001b[39;00m\u001b[39m\"\u001b[39m\u001b[39m.\u001b[39mformat(no_decimal))\n",
      "\u001b[1;31mValueError\u001b[0m: could not convert string to float: ''"
     ]
    }
   ],
   "source": [
    "no_decimal=0\n",
    "\n",
    "number= float(input(\"Insert the desired float number you wish to square root \")) # ask the user the float number\n",
    "no_decimal= len(str(number).split(\".\")[1])  # count the number of decimal places of the inserted float number\n",
    "\n",
    "\n",
    "\n",
    "print (\"No of decimal places {} \\n\\n\\n\\n\".format(no_decimal))\n"
   ]
  },
  {
   "cell_type": "markdown",
   "metadata": {},
   "source": [
    "Define the function  that estimate the square root throught Newton's method"
   ]
  },
  {
   "cell_type": "code",
   "execution_count": null,
   "metadata": {},
   "outputs": [],
   "source": [
    "def my_sqrt(number,tolerance):\n",
    "    guess = number/2 # first trial for the guessing. Iterate further for approximate the value \n",
    "\n",
    "    value= (guess + number/guess)/2 # estimate a new value\n",
    "    \n",
    "    while abs(value - guess)>tolerance: \n",
    "        guess = value # guess upadated with the new estimate value\n",
    "        value = (guess + number/guess)/2\n",
    "    return guess\n",
    "\n",
    "\n"
   ]
  },
  {
   "cell_type": "markdown",
   "metadata": {},
   "source": [
    "Run the previous created function and print its original estimation"
   ]
  },
  {
   "cell_type": "code",
   "execution_count": null,
   "metadata": {},
   "outputs": [
    {
     "name": "stdout",
     "output_type": "stream",
     "text": [
      "The estimated square root for the inserted number:1.2 is 1.0954451212048808\n",
      "\n",
      "\n",
      "\n",
      "\n"
     ]
    }
   ],
   "source": [
    "tolerance=0.0001\n",
    "root=my_sqrt(number,tolerance)\n",
    "print(\"The estimated square root for the inserted number:{} is {}\\n\\n\\n\\n\".format(number, root))\n"
   ]
  },
  {
   "cell_type": "markdown",
   "metadata": {},
   "source": [
    "Trim the original estimation for the squared root value and make it agredable with the no. of inserted decimal places of the input number"
   ]
  },
  {
   "cell_type": "code",
   "execution_count": null,
   "metadata": {},
   "outputs": [
    {
     "name": "stdout",
     "output_type": "stream",
     "text": [
      "The estimated square root with 1 decimal places is 1.1\n",
      "\n",
      "\n",
      "\n",
      "\n"
     ]
    }
   ],
   "source": [
    "\n",
    "root_decimal= x = round(root, no_decimal)\n",
    "\n",
    "print(\"The estimated square root with {} decimal places is {}\\n\\n\\n\\n\".format(no_decimal,root_decimal))\n"
   ]
  },
  {
   "cell_type": "markdown",
   "metadata": {},
   "source": [
    "# Task no.2\n",
    "***"
   ]
  },
  {
   "cell_type": "markdown",
   "metadata": {},
   "source": [
    "### Contingency table \n"
   ]
  },
  {
   "cell_type": "markdown",
   "metadata": {},
   "source": [
    "With the user drink and food preferences a data frame  is constructed. \n",
    "<ul>\n",
    " <li>Number of people liking Coffee and chocolate biscuits = 43</li>\n",
    " <li>Number of people liking Coffee and plain biscuits = 57</li>\n",
    "  <li>Number of people liking Tea and chocolate biscuits = 56</li>\n",
    "   <li>Number of people liking Tea and plain biscuits = 45</li>\n",
    "  </ul>\n"
   ]
  },
  {
   "cell_type": "code",
   "execution_count": 2,
   "metadata": {},
   "outputs": [],
   "source": [
    "import pandas as pd\n",
    "\n",
    "coffee_choco=[['Coffee','Chocolate']]*43\n",
    "coffee_plain=[['Coffee','Plain']]*57\n",
    "tea_choco=[['Tea','Chocolate']]*56\n",
    "tea_plain=[['Tea','Plain']]*45\n",
    "\n",
    "preferences=coffee_choco+coffee_plain+tea_choco+tea_plain\n",
    "\n",
    "drink, food = list(zip(*preferences))\n",
    "\n",
    "df = pd.DataFrame({'drink': drink, 'food': food})\n",
    "\n"
   ]
  },
  {
   "cell_type": "markdown",
   "metadata": {},
   "source": [
    "Create a contingency table with the created dataframe so it would be readable by scipy.stats (python library)"
   ]
  },
  {
   "cell_type": "code",
   "execution_count": 7,
   "metadata": {},
   "outputs": [
    {
     "data": {
      "text/plain": [
       "array([[43, 57],\n",
       "       [56, 45]])"
      ]
     },
     "execution_count": 7,
     "metadata": {},
     "output_type": "execute_result"
    }
   ],
   "source": [
    "import scipy.stats as ss\n",
    "\n",
    "cross = ss.contingency.crosstab(df['drink'], df['food'])\n",
    "cross.count"
   ]
  },
  {
   "cell_type": "markdown",
   "metadata": {},
   "source": [
    "Perform a chi-square to the data throught the means of a contingency/frequency table and evaluate the association between both preferences: food and drink.\n",
    "Chi-square is a statistical hypothesis test that consideres a significance level (p-value) for the rejection/acceptance of null/alternative hypothesis. \n",
    "<ul>\n",
    " <li>The null hypothesis, commonly refered as &mu;<sub>0</sub> ditactes that there is no association between the tested categorical variables. </li>\n",
    " <li>The alternative hypothesis, commonly refered as &mu;<sub>1</sub> ditactes that there is association between the tested categorical variables. </li>\n",
    "</ul>\n",
    "The considered p-value was 0.05, thus if p-value is <<<< than 0.05 means that &mu;<sub>0</sub> must be rejected and there is evidence of association between variables. In other hand, if p-value is greater thatn 0.05 the null hyphotesis must be taken meaning no association between both variables: food and drink. \n"
   ]
  },
  {
   "cell_type": "code",
   "execution_count": 8,
   "metadata": {},
   "outputs": [
    {
     "data": {
      "text/plain": [
       "0.10447218120907394"
      ]
     },
     "execution_count": 8,
     "metadata": {},
     "output_type": "execute_result"
    }
   ],
   "source": [
    "chi2_stat, p_val, dof, expected = ss.chi2_contingency(cross.count)\n",
    "p_val"
   ]
  },
  {
   "cell_type": "markdown",
   "metadata": {},
   "source": [
    "p-value= 0.104 which means that null hyphotesis can not be rejected, so there is no evidence of association between food prefernce and drink preference"
   ]
  },
  {
   "cell_type": "markdown",
   "metadata": {},
   "source": [
    "# Task no. 3"
   ]
  },
  {
   "cell_type": "code",
   "execution_count": 9,
   "metadata": {},
   "outputs": [
    {
     "name": "stdout",
     "output_type": "stream",
     "text": [
      "There is significant evidence to reject the null hypothesis. This means that male a female groups have different body mass averages\n"
     ]
    }
   ],
   "source": [
    "import pandas as pd\n",
    "from scipy import stats\n",
    "\n",
    "\n",
    "\n",
    "# Upload data set\n",
    "data = pd.read_csv('penguins.csv')\n",
    "#data.head() # to display the first 5 lines of loaded data\n",
    "\n",
    "\n",
    "\n",
    "# Prepare the data set - remove the nan\n",
    "data_clean = data.dropna()\n",
    "\n",
    "# Isolate the data-set per sex\n",
    "male_penguins = data[data['sex'] == 'MALE']\n",
    "female_penguins = data[data['sex'] == 'FEMALE']\n",
    "\n",
    "# Restrict the analysis exclusively to the bodymass\n",
    "body_male=male_penguins[\"body_mass_g\"]\n",
    "body_female=female_penguins[\"body_mass_g\"]\n",
    "#print(body_male)\n",
    "#print(body_female)\n",
    "\n",
    "\n",
    "t_stat, p_value=stats.ttest_ind(body_male, body_female)\n",
    "\n",
    "\n",
    "#Null hypothesis: H0: μ_male = μ_female\n",
    "\n",
    "\n",
    "# Determine significance\n",
    "alpha = 0.05\n",
    "if p_value < alpha:\n",
    "    print(\"There is significant evidence to reject the null hypothesis. This means that male a female groups have different body mass averages\")\n",
    "else:\n",
    "    print(\"There is no significant evidence to reject the null hypothesis.This means that female and male can have different or equal body mass averages\")\n",
    "\n"
   ]
  },
  {
   "cell_type": "markdown",
   "metadata": {},
   "source": [
    "# Task no. 4"
   ]
  },
  {
   "cell_type": "code",
   "execution_count": 10,
   "metadata": {},
   "outputs": [
    {
     "data": {
      "text/html": [
       "<div>\n",
       "<style scoped>\n",
       "    .dataframe tbody tr th:only-of-type {\n",
       "        vertical-align: middle;\n",
       "    }\n",
       "\n",
       "    .dataframe tbody tr th {\n",
       "        vertical-align: top;\n",
       "    }\n",
       "\n",
       "    .dataframe thead th {\n",
       "        text-align: right;\n",
       "    }\n",
       "</style>\n",
       "<table border=\"1\" class=\"dataframe\">\n",
       "  <thead>\n",
       "    <tr style=\"text-align: right;\">\n",
       "      <th></th>\n",
       "      <th>sepal_length</th>\n",
       "      <th>sepal_width</th>\n",
       "      <th>petal_length</th>\n",
       "      <th>petal_width</th>\n",
       "      <th>class</th>\n",
       "    </tr>\n",
       "  </thead>\n",
       "  <tbody>\n",
       "    <tr>\n",
       "      <th>0</th>\n",
       "      <td>5.1</td>\n",
       "      <td>3.5</td>\n",
       "      <td>1.4</td>\n",
       "      <td>0.2</td>\n",
       "      <td>setosa</td>\n",
       "    </tr>\n",
       "    <tr>\n",
       "      <th>1</th>\n",
       "      <td>4.9</td>\n",
       "      <td>3.0</td>\n",
       "      <td>1.4</td>\n",
       "      <td>0.2</td>\n",
       "      <td>setosa</td>\n",
       "    </tr>\n",
       "    <tr>\n",
       "      <th>2</th>\n",
       "      <td>4.7</td>\n",
       "      <td>3.2</td>\n",
       "      <td>1.3</td>\n",
       "      <td>0.2</td>\n",
       "      <td>setosa</td>\n",
       "    </tr>\n",
       "    <tr>\n",
       "      <th>3</th>\n",
       "      <td>4.6</td>\n",
       "      <td>3.1</td>\n",
       "      <td>1.5</td>\n",
       "      <td>0.2</td>\n",
       "      <td>setosa</td>\n",
       "    </tr>\n",
       "    <tr>\n",
       "      <th>4</th>\n",
       "      <td>5.0</td>\n",
       "      <td>3.6</td>\n",
       "      <td>1.4</td>\n",
       "      <td>0.2</td>\n",
       "      <td>setosa</td>\n",
       "    </tr>\n",
       "  </tbody>\n",
       "</table>\n",
       "</div>"
      ],
      "text/plain": [
       "   sepal_length  sepal_width  petal_length  petal_width   class\n",
       "0           5.1          3.5           1.4          0.2  setosa\n",
       "1           4.9          3.0           1.4          0.2  setosa\n",
       "2           4.7          3.2           1.3          0.2  setosa\n",
       "3           4.6          3.1           1.5          0.2  setosa\n",
       "4           5.0          3.6           1.4          0.2  setosa"
      ]
     },
     "execution_count": 10,
     "metadata": {},
     "output_type": "execute_result"
    }
   ],
   "source": [
    "import pandas as pd\n",
    "from scipy import stats\n",
    "\n",
    "\n",
    "\n",
    "# Upload data set\n",
    "data = pd.read_csv('iris.csv')\n",
    "data.head() # to display the first 5 lines of loaded data\n",
    "\n"
   ]
  },
  {
   "cell_type": "code",
   "execution_count": null,
   "metadata": {},
   "outputs": [],
   "source": []
  },
  {
   "cell_type": "code",
   "execution_count": null,
   "metadata": {},
   "outputs": [],
   "source": []
  },
  {
   "cell_type": "code",
   "execution_count": null,
   "metadata": {},
   "outputs": [],
   "source": []
  }
 ],
 "metadata": {
  "kernelspec": {
   "display_name": "Python 3",
   "language": "python",
   "name": "python3"
  },
  "language_info": {
   "codemirror_mode": {
    "name": "ipython",
    "version": 3
   },
   "file_extension": ".py",
   "mimetype": "text/x-python",
   "name": "python",
   "nbconvert_exporter": "python",
   "pygments_lexer": "ipython3",
   "version": "3.10.9"
  }
 },
 "nbformat": 4,
 "nbformat_minor": 2
}
