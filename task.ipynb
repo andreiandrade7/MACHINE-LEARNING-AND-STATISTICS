{
 "cells": [
  {
   "cell_type": "markdown",
   "metadata": {},
   "source": [
    "# Task no.1\n",
    "***"
   ]
  },
  {
   "cell_type": "markdown",
   "metadata": {},
   "source": [
    "### Newton's method : Python script to estimate the square root of a float number inserted by the user"
   ]
  },
  {
   "cell_type": "markdown",
   "metadata": {},
   "source": [
    "Read input number and estimate relevant info (no. decimal places)"
   ]
  },
  {
   "cell_type": "code",
   "execution_count": 1,
   "metadata": {},
   "outputs": [
    {
     "ename": "ValueError",
     "evalue": "could not convert string to float: ''",
     "output_type": "error",
     "traceback": [
      "\u001b[1;31m---------------------------------------------------------------------------\u001b[0m",
      "\u001b[1;31mValueError\u001b[0m                                Traceback (most recent call last)",
      "\u001b[1;32mc:\\Users\\andreia\\Desktop\\Science in Computing in Data Analytics\\courses\\6.Machine Learning and Statistics\\repo\\MACHINE-LEARNING-AND-STATISTICS-1\\task.ipynb Cell 4\u001b[0m line \u001b[0;36m3\n\u001b[0;32m      <a href='vscode-notebook-cell:/c%3A/Users/andreia/Desktop/Science%20in%20Computing%20in%20Data%20Analytics/courses/6.Machine%20Learning%20and%20Statistics/repo/MACHINE-LEARNING-AND-STATISTICS-1/task.ipynb#X13sZmlsZQ%3D%3D?line=0'>1</a>\u001b[0m no_decimal\u001b[39m=\u001b[39m\u001b[39m0\u001b[39m\n\u001b[1;32m----> <a href='vscode-notebook-cell:/c%3A/Users/andreia/Desktop/Science%20in%20Computing%20in%20Data%20Analytics/courses/6.Machine%20Learning%20and%20Statistics/repo/MACHINE-LEARNING-AND-STATISTICS-1/task.ipynb#X13sZmlsZQ%3D%3D?line=2'>3</a>\u001b[0m number\u001b[39m=\u001b[39m \u001b[39mfloat\u001b[39;49m(\u001b[39minput\u001b[39;49m(\u001b[39m\"\u001b[39;49m\u001b[39mInsert the desired float number you wish to square root \u001b[39;49m\u001b[39m\"\u001b[39;49m)) \u001b[39m# ask the user the float number\u001b[39;00m\n\u001b[0;32m      <a href='vscode-notebook-cell:/c%3A/Users/andreia/Desktop/Science%20in%20Computing%20in%20Data%20Analytics/courses/6.Machine%20Learning%20and%20Statistics/repo/MACHINE-LEARNING-AND-STATISTICS-1/task.ipynb#X13sZmlsZQ%3D%3D?line=3'>4</a>\u001b[0m no_decimal\u001b[39m=\u001b[39m \u001b[39mlen\u001b[39m(\u001b[39mstr\u001b[39m(number)\u001b[39m.\u001b[39msplit(\u001b[39m\"\u001b[39m\u001b[39m.\u001b[39m\u001b[39m\"\u001b[39m)[\u001b[39m1\u001b[39m])  \u001b[39m# count the number of decimal places of the inserted float number\u001b[39;00m\n\u001b[0;32m      <a href='vscode-notebook-cell:/c%3A/Users/andreia/Desktop/Science%20in%20Computing%20in%20Data%20Analytics/courses/6.Machine%20Learning%20and%20Statistics/repo/MACHINE-LEARNING-AND-STATISTICS-1/task.ipynb#X13sZmlsZQ%3D%3D?line=7'>8</a>\u001b[0m \u001b[39mprint\u001b[39m (\u001b[39m\"\u001b[39m\u001b[39mNo of decimal places \u001b[39m\u001b[39m{}\u001b[39;00m\u001b[39m \u001b[39m\u001b[39m\\n\u001b[39;00m\u001b[39m\\n\u001b[39;00m\u001b[39m\\n\u001b[39;00m\u001b[39m\\n\u001b[39;00m\u001b[39m\"\u001b[39m\u001b[39m.\u001b[39mformat(no_decimal))\n",
      "\u001b[1;31mValueError\u001b[0m: could not convert string to float: ''"
     ]
    }
   ],
   "source": [
    "no_decimal=0\n",
    "\n",
    "number= float(input(\"Insert the desired float number you wish to square root \")) # ask the user the float number\n",
    "no_decimal= len(str(number).split(\".\")[1])  # count the number of decimal places of the inserted float number\n",
    "\n",
    "\n",
    "\n",
    "print (\"No of decimal places {} \\n\\n\\n\\n\".format(no_decimal))\n"
   ]
  },
  {
   "cell_type": "markdown",
   "metadata": {},
   "source": [
    "Define the function  that estimate the square root throught Newton's method"
   ]
  },
  {
   "cell_type": "code",
   "execution_count": null,
   "metadata": {},
   "outputs": [],
   "source": [
    "def my_sqrt(number,tolerance):\n",
    "    guess = number/2 # first trial for the guessing. Iterate further for approximate the value \n",
    "\n",
    "    value= (guess + number/guess)/2 # estimate a new value\n",
    "    \n",
    "    while abs(value - guess)>tolerance: \n",
    "        guess = value # guess upadated with the new estimate value\n",
    "        value = (guess + number/guess)/2\n",
    "    return guess\n",
    "\n",
    "\n"
   ]
  },
  {
   "cell_type": "markdown",
   "metadata": {},
   "source": [
    "Run the previous created function and print its original estimation"
   ]
  },
  {
   "cell_type": "code",
   "execution_count": null,
   "metadata": {},
   "outputs": [],
   "source": [
    "tolerance=0.0001\n",
    "root=my_sqrt(number,tolerance)\n",
    "print(\"The estimated square root for the inserted number:{} is {}\\n\\n\\n\\n\".format(number, root))\n"
   ]
  },
  {
   "cell_type": "markdown",
   "metadata": {},
   "source": [
    "Trim the original estimation for the squared root value and make it agredable with the no. of inserted decimal places of the input number"
   ]
  },
  {
   "cell_type": "code",
   "execution_count": null,
   "metadata": {},
   "outputs": [],
   "source": [
    "\n",
    "root_decimal= x = round(root, no_decimal)\n",
    "\n",
    "print(\"The estimated square root with {} decimal places is {}\\n\\n\\n\\n\".format(no_decimal,root_decimal))\n"
   ]
  },
  {
   "cell_type": "markdown",
   "metadata": {},
   "source": [
    "# Task no.2\n",
    "***"
   ]
  },
  {
   "cell_type": "markdown",
   "metadata": {},
   "source": [
    "### Contingency table \n"
   ]
  },
  {
   "cell_type": "code",
   "execution_count": null,
   "metadata": {},
   "outputs": [],
   "source": []
  }
 ],
 "metadata": {
  "kernelspec": {
   "display_name": "Python 3",
   "language": "python",
   "name": "python3"
  },
  "language_info": {
   "codemirror_mode": {
    "name": "ipython",
    "version": 3
   },
   "file_extension": ".py",
   "mimetype": "text/x-python",
   "name": "python",
   "nbconvert_exporter": "python",
   "pygments_lexer": "ipython3",
   "version": "3.10.9"
  }
 },
 "nbformat": 4,
 "nbformat_minor": 2
}
