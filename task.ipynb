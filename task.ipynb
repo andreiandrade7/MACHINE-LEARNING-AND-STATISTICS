{
 "cells": [
  {
   "cell_type": "markdown",
   "metadata": {},
   "source": [
    "# Task no.1\n",
    "***"
   ]
  },
  {
   "cell_type": "markdown",
   "metadata": {},
   "source": [
    "### Newton's method : Python script to estimate the square root of a float number inserted by the user"
   ]
  },
  {
   "cell_type": "markdown",
   "metadata": {},
   "source": [
    "Read input number and estimate relevant info (no. decimal places)"
   ]
  },
  {
   "cell_type": "code",
   "execution_count": 2,
   "metadata": {},
   "outputs": [
    {
     "name": "stdout",
     "output_type": "stream",
     "text": [
      "No of decimal places 2 \n",
      "\n",
      "\n",
      "\n",
      "\n"
     ]
    }
   ],
   "source": [
    "no_decimal=0\n",
    "\n",
    "number= float(input(\"Insert the desired float number you wish to square root \")) # ask the user the float number\n",
    "no_decimal= len(str(number).split(\".\")[1])  # count the number of decimal places of the inserted float number\n",
    "\n",
    "\n",
    "\n",
    "print (\"No of decimal places {} \\n\\n\\n\\n\".format(no_decimal))\n"
   ]
  },
  {
   "cell_type": "markdown",
   "metadata": {},
   "source": [
    "Define the function  that estimate the square root throught Newton's method"
   ]
  },
  {
   "cell_type": "code",
   "execution_count": 3,
   "metadata": {},
   "outputs": [],
   "source": [
    "def my_sqrt(number,tolerance):\n",
    "    guess = number/2 # first trial for the guessing. Iterate further for approximate the value \n",
    "\n",
    "    value= (guess + number/guess)/2 # estimate a new value\n",
    "    \n",
    "    while abs(value - guess)>tolerance: \n",
    "        guess = value # guess upadated with the new estimate value\n",
    "        value = (guess + number/guess)/2\n",
    "    return guess\n",
    "\n",
    "\n"
   ]
  },
  {
   "cell_type": "markdown",
   "metadata": {},
   "source": [
    "Run the previous created function and print its original estimation"
   ]
  },
  {
   "cell_type": "code",
   "execution_count": 4,
   "metadata": {},
   "outputs": [
    {
     "name": "stdout",
     "output_type": "stream",
     "text": [
      "The estimated square root for the inserted number:4.11 is 2.0273135018495685\n",
      "\n",
      "\n",
      "\n",
      "\n"
     ]
    }
   ],
   "source": [
    "tolerance=0.0001\n",
    "root=my_sqrt(number,tolerance)\n",
    "print(\"The estimated square root for the inserted number:{} is {}\\n\\n\\n\\n\".format(number, root))\n"
   ]
  },
  {
   "cell_type": "markdown",
   "metadata": {},
   "source": [
    "Trim the original estimation for the squared root value and make it agredable with the no. of inserted decimal places of the input number"
   ]
  },
  {
   "cell_type": "code",
   "execution_count": 5,
   "metadata": {},
   "outputs": [
    {
     "name": "stdout",
     "output_type": "stream",
     "text": [
      "The estimated square root with 2 decimal places is 2.03\n",
      "\n",
      "\n",
      "\n",
      "\n"
     ]
    }
   ],
   "source": [
    "\n",
    "root_decimal= x = round(root, no_decimal)\n",
    "\n",
    "print(\"The estimated square root with {} decimal places is {}\\n\\n\\n\\n\".format(no_decimal,root_decimal))\n"
   ]
  },
  {
   "cell_type": "markdown",
   "metadata": {},
   "source": [
    "# Task no.2\n",
    "***"
   ]
  },
  {
   "cell_type": "markdown",
   "metadata": {},
   "source": [
    "### Contingency table \n"
   ]
  },
  {
   "cell_type": "code",
   "execution_count": null,
   "metadata": {},
   "outputs": [],
   "source": []
  }
 ],
 "metadata": {
  "kernelspec": {
   "display_name": "Python 3",
   "language": "python",
   "name": "python3"
  },
  "language_info": {
   "codemirror_mode": {
    "name": "ipython",
    "version": 3
   },
   "file_extension": ".py",
   "mimetype": "text/x-python",
   "name": "python",
   "nbconvert_exporter": "python",
   "pygments_lexer": "ipython3",
   "version": "3.10.9"
  }
 },
 "nbformat": 4,
 "nbformat_minor": 2
}
